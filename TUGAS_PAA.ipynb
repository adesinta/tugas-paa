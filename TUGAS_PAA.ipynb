{
  "nbformat": 4,
  "nbformat_minor": 0,
  "metadata": {
    "colab": {
      "provenance": [],
      "authorship_tag": "ABX9TyO4dhYvMNAB1lC0MtoMDGlV"
    },
    "kernelspec": {
      "name": "python3",
      "display_name": "Python 3"
    },
    "language_info": {
      "name": "python"
    }
  },
  "cells": [
    {
      "cell_type": "markdown",
      "source": [
        "**BUBBLE SORT**"
      ],
      "metadata": {
        "id": "UCjvnxtxtjk0"
      }
    },
    {
      "cell_type": "code",
      "execution_count": 6,
      "metadata": {
        "colab": {
          "base_uri": "https://localhost:8080/"
        },
        "id": "gqVsYowFtgoH",
        "outputId": "ce5da499-83dc-473f-b995-c96e4dd13031"
      },
      "outputs": [
        {
          "output_type": "stream",
          "name": "stdout",
          "text": [
            "Hasil Bubble Sort: [11, 12, 22, 25, 34, 64, 90]\n",
            "Waktu eksekusi Bubble Sort (rata-rata): 0.03779738000002908\n"
          ]
        }
      ],
      "source": [
        "import timeit\n",
        "def bubble_sort(arr):\n",
        "    n = len(arr)\n",
        "    for i in range(n-1):\n",
        "        for j in range(0, n-i-1):\n",
        "            if arr[j] > arr[j+1]:\n",
        "                arr[j], arr[j+1] = arr[j+1], arr[j]\n",
        "    return arr\n",
        "\n",
        "# Contoh penggunaan:\n",
        "arr = [64, 34, 25, 12, 22, 11, 90]\n",
        "sorted_arr = bubble_sort(arr)\n",
        "print(\"Hasil Bubble Sort:\", sorted_arr)\n",
        "\n",
        "bubble_sort_time = timeit.timeit(lambda: bubble_sort(arr.copy()), number=10000)\n",
        "print(\"Waktu eksekusi Bubble Sort (rata-rata):\", bubble_sort_time)"
      ]
    },
    {
      "cell_type": "markdown",
      "source": [
        "**INSERTION SORT**"
      ],
      "metadata": {
        "id": "3W-FcXWttnqp"
      }
    },
    {
      "cell_type": "code",
      "source": [
        "import timeit\n",
        "def insertion_sort(arr):\n",
        "    for i in range(1, len(arr)):\n",
        "        key = arr[i]\n",
        "        j = i - 1\n",
        "        while j >= 0 and key < arr[j]:\n",
        "            arr[j + 1] = arr[j]\n",
        "            j -= 1\n",
        "        arr[j + 1] = key\n",
        "    return arr\n",
        "\n",
        "# Contoh penggunaan:\n",
        "arr = [64, 34, 25, 12, 22, 11, 90]\n",
        "sorted_arr = insertion_sort(arr)\n",
        "print(\"Hasil Insertion Sort:\", sorted_arr)\n",
        "insertion_sort_time = timeit.timeit(lambda: insertion_sort(arr.copy()), number=10000)\n",
        "print(\"Waktu eksekusi Insertion Sort (rata-rata):\", insertion_sort_time)"
      ],
      "metadata": {
        "colab": {
          "base_uri": "https://localhost:8080/"
        },
        "id": "_0b45Avctq_s",
        "outputId": "18d19138-44b2-4827-dfd0-6a47d16ad4d4"
      },
      "execution_count": 7,
      "outputs": [
        {
          "output_type": "stream",
          "name": "stdout",
          "text": [
            "Hasil Insertion Sort: [11, 12, 22, 25, 34, 64, 90]\n",
            "Waktu eksekusi Insertion Sort (rata-rata): 0.023593292999976256\n"
          ]
        }
      ]
    },
    {
      "cell_type": "markdown",
      "source": [
        "Berdasarkan hasil ini, dapat disimpulkan bahwa Insertion Sort lebih optimal daripada Bubble Sort dalam kasus ini. Insertion Sort memiliki waktu eksekusi yang lebih cepat dibandingkan dengan Bubble Sort.\n",
        "\n",
        "Namun, penting untuk dicatat bahwa efisiensi algoritma dapat bervariasi tergantung pada kasus uji dan ukuran data yang diberikan. Dalam beberapa kasus, Bubble Sort mungkin memiliki performa yang lebih baik daripada Insertion Sort. Oleh karena itu, selalu penting untuk mempertimbangkan karakteristik data dan kasus uji yang spesifik ketika memilih algoritma pengurutan yang tepat."
      ],
      "metadata": {
        "id": "zyEZw6uRt_un"
      }
    }
  ]
}