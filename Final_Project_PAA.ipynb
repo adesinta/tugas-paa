{
  "cells": [
    {
      "cell_type": "markdown",
      "metadata": {
        "id": "view-in-github",
        "colab_type": "text"
      },
      "source": [
        "<a href=\"https://colab.research.google.com/github/adesinta/tugas-paa/blob/main/Final_Project_PAA.ipynb\" target=\"_parent\"><img src=\"https://colab.research.google.com/assets/colab-badge.svg\" alt=\"Open In Colab\"/></a>"
      ]
    },
    {
      "cell_type": "markdown",
      "metadata": {
        "id": "5sZ9op2plN_L"
      },
      "source": [
        "##**FINAL PROJECT PAA**"
      ]
    },
    {
      "cell_type": "markdown",
      "metadata": {
        "id": "G-TEwQLMldZG"
      },
      "source": [
        "Bubble & Insertion Sort"
      ]
    },
    {
      "cell_type": "code",
      "execution_count": 9,
      "metadata": {
        "colab": {
          "base_uri": "https://localhost:8080/"
        },
        "id": "orZF5zpujEPV",
        "outputId": "7674c530-94f7-424c-d159-f49002547339"
      },
      "outputs": [
        {
          "output_type": "stream",
          "name": "stdout",
          "text": [
            "Sebelum pengurutan:\n",
            "[12, 99, 62, 15, 20, 95, 39, 48, 3, 24, 8, 43, 74, 19, 97, 33, 49, 68, 55, 33, 90, 90, 7, 26, 85, 46, 39, 40, 9, 36, 60, 64, 89, 31, 25, 71, 21, 23, 63, 84, 32, 5, 3, 44, 21, 10, 21, 17, 50, 2, 36, 53, 79, 54, 19, 88, 1, 32, 31, 15, 6, 3, 1, 40, 22, 43, 18, 1, 77, 9, 59, 40, 7, 41, 81]\n",
            "\n",
            "Pilih algoritma pengurutan:\n",
            "1. Bubble Sort\n",
            "2. Insertion Sort\n",
            "Masukkan pilihan Anda (1 atau 2): 1\n",
            "\n",
            "Sesudah pengurutan <function bubble_sort at 0x7f741431fbe0>: [1, 1, 1, 2, 3, 3, 3, 5, 6, 7, 7, 8, 9, 9, 10, 12, 15, 15, 17, 18, 19, 19, 20, 21, 21, 21, 22, 23, 24, 25, 26, 31, 31, 32, 32, 33, 33, 36, 36, 39, 39, 40, 40, 40, 41, 43, 43, 44, 46, 48, 49, 50, 53, 54, 55, 59, 60, 62, 63, 64, 68, 71, 74, 77, 79, 81, 84, 85, 88, 89, 90, 90, 95, 97, 99]\n",
            "\n",
            "5 iterasi pertama Bubble Sort:\n",
            "12 99 62 15 20 \n",
            "\n",
            "5 iterasi terakhir Bubble Sort:\n",
            "59 40 7 41 81 \n",
            "\n",
            "Waktu komputasi: 0.000372 detik\n",
            "\n"
          ]
        }
      ],
      "source": [
        "import time\n",
        "\n",
        "def bubble_sort(arr):\n",
        "    n = len(arr)\n",
        "    start_time = time.time()\n",
        "\n",
        "    for i in range(n):\n",
        "        swapped = False\n",
        "        for j in range(n-i-1):\n",
        "            if arr[j] > arr[j+1]:\n",
        "                arr[j], arr[j+1] = arr[j+1], arr[j]\n",
        "                swapped = True\n",
        "\n",
        "        if not swapped:\n",
        "            break\n",
        "\n",
        "    end_time = time.time()\n",
        "    return arr, end_time - start_time\n",
        "\n",
        "\n",
        "def insertion_sort(arr):\n",
        "    n = len(arr)\n",
        "    start_time = time.time()\n",
        "\n",
        "    for i in range(1, n):\n",
        "        key = arr[i]\n",
        "        j = i - 1\n",
        "        while j >= 0 and arr[j] > key:\n",
        "            arr[j+1] = arr[j]\n",
        "            j -= 1\n",
        "        arr[j+1] = key\n",
        "\n",
        "    end_time = time.time()\n",
        "    return arr, end_time - start_time\n",
        "\n",
        "\n",
        "def print_iterations(arr, sort_type):\n",
        "    print(f\"5 iterasi pertama {sort_type}:\")\n",
        "    for i in range(min(5, len(arr))):\n",
        "        print(arr[i], end=\" \")\n",
        "    print(\"\\n\")\n",
        "\n",
        "    print(f\"5 iterasi terakhir {sort_type}:\")\n",
        "    for i in range(max(0, len(arr)-5), len(arr)):\n",
        "        print(arr[i], end=\" \")\n",
        "    print(\"\\n\")\n",
        "\n",
        "\n",
        "def print_computation_time(time):\n",
        "    print(f\"Waktu komputasi: {time:.6f} detik\\n\")\n",
        "\n",
        "\n",
        "def print_before_after(arr, sort_type):\n",
        "    sorted_arr, _ = sort_type(arr.copy())\n",
        "    print(f\"Sesudah pengurutan {sort_type}: {sorted_arr}\\n\")\n",
        "\n",
        "if __name__ == '__main__':\n",
        "    arr = [12, 99, 62, 15, 20, 95, 39, 48, 3, 24, 8, 43, 74, 19, 97, 33, 49, 68, 55, 33, 90, 90, 7,\n",
        "           26, 85, 46, 39, 40, 9, 36, 60, 64, 89, 31, 25, 71, 21, 23, 63, 84, 32, 5, 3, 44, 21, 10, 21,\n",
        "           17, 50, 2, 36, 53, 79, 54, 19, 88, 1, 32, 31, 15, 6, 3, 1, 40, 22, 43, 18, 1, 77, 9, 59,\n",
        "           40, 7, 41, 81]\n",
        "\n",
        "    print(\"Sebelum pengurutan:\")\n",
        "    print(arr)\n",
        "    print()\n",
        "\n",
        "    while True:\n",
        "        print(\"Pilih algoritma pengurutan:\")\n",
        "        print(\"1. Bubble Sort\")\n",
        "        print(\"2. Insertion Sort\")\n",
        "        choice = input(\"Masukkan pilihan Anda (1 atau 2): \")\n",
        "        print()\n",
        "\n",
        "        if choice == '1':\n",
        "            print_before_after(arr, bubble_sort)\n",
        "            print_iterations(arr, \"Bubble Sort\")\n",
        "            sorted_arr, computation_time = bubble_sort(arr.copy())\n",
        "            print_computation_time(computation_time)\n",
        "            break\n",
        "        elif choice == '2':\n",
        "            print_before_after(arr, insertion_sort)\n",
        "            print_iterations(arr, \"Insertion Sort\")\n",
        "            sorted_arr, computation_time = insertion_sort(arr.copy())\n",
        "            print_computation_time(computation_time)\n",
        "            break\n",
        "        else:\n",
        "            print(\"Pilihan tidak valid. Silakan masukkan 1 atau 2.\\n\")"
      ]
    },
    {
      "cell_type": "markdown",
      "metadata": {
        "id": "g-vH9wfGliPg"
      },
      "source": [
        "Algoritma TSP"
      ]
    },
    {
      "cell_type": "code",
      "source": [
        "import time\n",
        "import itertools\n",
        "from heapq import heappop, heappush\n",
        "\n",
        "# Representasi grafik sebagai dictionary\n",
        "graph = {\n",
        "    'a': {'b': 12, 'c': 10, 'g': 12},\n",
        "    'b': {'a': 12, 'c': 8, 'd': 12},\n",
        "    'c': {'a': 10, 'b': 8, 'd': 11, 'e': 3, 'g': 9},\n",
        "    'd': {'b': 12, 'c': 11, 'e': 11, 'f': 10},\n",
        "    'e': {'c': 3, 'd': 11, 'f': 6, 'g': 7},\n",
        "    'f': {'d': 10, 'e': 6, 'g': 9},\n",
        "    'g': {'a': 12, 'c': 9, 'e': 7, 'f': 9}\n",
        "}\n",
        "\n",
        "def tsp(graph):\n",
        "    start_time = time.time()\n",
        "\n",
        "    # Menghasilkan semua kemungkinan permutasi\n",
        "    nodes = list(graph.keys())\n",
        "    permutations = list(itertools.permutations(nodes))\n",
        "\n",
        "    shortest_path = None\n",
        "    shortest_distance = float('inf')\n",
        "\n",
        "    iteration_count = 0\n",
        "\n",
        "    for path in permutations:\n",
        "        distance = 0\n",
        "        valid_path = True\n",
        "        for i in range(len(path) - 1):\n",
        "            current_node = path[i]\n",
        "            next_node = path[i + 1]\n",
        "\n",
        "            if next_node not in graph[current_node]:\n",
        "                valid_path = False\n",
        "                break\n",
        "\n",
        "            distance += graph[current_node][next_node]\n",
        "\n",
        "        if valid_path and distance < shortest_distance:\n",
        "            shortest_distance = distance\n",
        "            shortest_path = path\n",
        "\n",
        "        iteration_count += 1\n",
        "        print(f\"Iterasi ke-{iteration_count}: {path} - Jarak: {distance}\")\n",
        "\n",
        "    end_time = time.time()\n",
        "    computation_time = end_time - start_time\n",
        "\n",
        "    print(\"\\nHasil Akhir:\")\n",
        "    print(f\"Jalur Terpendek: {shortest_path}\")\n",
        "    print(f\"Jarak Terpendek: {shortest_distance}\")\n",
        "    print(f\"Waktu Komputasi: {computation_time} detik\")\n",
        "\n",
        "def djikstra(graph):\n",
        "    start_time = time.time()\n",
        "\n",
        "    # Inisialisasi jarak awal semua node dengan infinity\n",
        "    distances = {node: {n: float('inf') for n in graph} for node in graph}\n",
        "\n",
        "    for node in graph:\n",
        "        distances[node][node] = 0\n",
        "\n",
        "        # Heap berisi node-node yang akan diproses\n",
        "        heap = [(0, node)]\n",
        "\n",
        "        while heap:\n",
        "            current_distance, current_node = heappop(heap)\n",
        "\n",
        "            if current_distance > distances[node][current_node]:\n",
        "                continue\n",
        "\n",
        "            for neighbor, weight in graph[current_node].items():\n",
        "                distance = current_distance + weight\n",
        "\n",
        "                if distance < distances[node][neighbor]:\n",
        "                    distances[node][neighbor] = distance\n",
        "                    heappush(heap, (distance, neighbor))\n",
        "\n",
        "    end_time = time.time()\n",
        "    computation_time = end_time - start_time\n",
        "\n",
        "    print(\"\\nHasil Akhir:\")\n",
        "    for node in distances:\n",
        "        print(f\"Jarak Terpendek dari node {node}:\")\n",
        "        for n in distances[node]:\n",
        "            print(f\"{node} ke {n}: {distances[node][n]}\")\n",
        "        print()\n",
        "\n",
        "    print(f\"Waktu Komputasi: {computation_time} detik\")\n",
        "\n",
        "# Main Program\n",
        "while True:\n",
        "    print(\"\\nPilih algoritma:\")\n",
        "    print(\"1. TSP\")\n",
        "    print(\"2. Djikstra\")\n",
        "    print(\"3. Keluar\")\n",
        "    user_choice = input(\"Masukkan pilihan: \")\n",
        "\n",
        "    if user_choice == \"1\":\n",
        "        tsp(graph)\n",
        "    elif user_choice == \"2\":\n",
        "        djikstra(graph)\n",
        "    elif user_choice == \"3\":\n",
        "        break\n",
        "    else:\n",
        "        print(\"Pilihan tidak valid. Silakan pilih 1, 2, atau 3.\")\n"
      ],
      "metadata": {
        "colab": {
          "base_uri": "https://localhost:8080/"
        },
        "id": "-E4eS5B6zxcv",
        "outputId": "65cba932-5b15-4286-e791-0124c5b6c5f5"
      },
      "execution_count": null,
      "outputs": [
        {
          "metadata": {
            "tags": null
          },
          "name": "stdout",
          "output_type": "stream",
          "text": [
            "\n",
            "Pilih algoritma:\n",
            "1. TSP\n",
            "2. Djikstra\n",
            "3. Keluar\n"
          ]
        }
      ]
    }
  ],
  "metadata": {
    "colab": {
      "provenance": [],
      "authorship_tag": "ABX9TyO2GuMmmaDW8wkJ0p+8bAM7",
      "include_colab_link": true
    },
    "kernelspec": {
      "display_name": "Python 3",
      "name": "python3"
    },
    "language_info": {
      "name": "python"
    }
  },
  "nbformat": 4,
  "nbformat_minor": 0
}