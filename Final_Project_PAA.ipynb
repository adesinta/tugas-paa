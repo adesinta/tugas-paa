{
  "nbformat": 4,
  "nbformat_minor": 0,
  "metadata": {
    "colab": {
      "provenance": [],
      "authorship_tag": "ABX9TyM/0nMBDMhQfF2tyPU1E6Jf"
    },
    "kernelspec": {
      "name": "python3",
      "display_name": "Python 3"
    },
    "language_info": {
      "name": "python"
    }
  },
  "cells": [
    {
      "cell_type": "markdown",
      "source": [
        "##**FINAL PROJECT PAA**"
      ],
      "metadata": {
        "id": "5sZ9op2plN_L"
      }
    },
    {
      "cell_type": "markdown",
      "source": [
        "Bubble & Insertion Sort"
      ],
      "metadata": {
        "id": "G-TEwQLMldZG"
      }
    },
    {
      "cell_type": "code",
      "execution_count": 24,
      "metadata": {
        "colab": {
          "base_uri": "https://localhost:8080/"
        },
        "id": "orZF5zpujEPV",
        "outputId": "215fe4a4-1a7e-4144-c276-a1be1d7ac002"
      },
      "outputs": [
        {
          "output_type": "stream",
          "name": "stdout",
          "text": [
            "Sebelum pengurutan:\n",
            "[12, 99, 62, 15, 20, 95, 39, 48, 3, 24, 8, 43, 74, 19, 97, 33, 49, 68, 55, 33, 90, 90, 7, 26, 85, 46, 39, 40, 9, 36, 60, 64, 89, 31, 25, 71, 21, 23, 63, 84, 32, 5, 3, 44, 21, 10, 21, 17, 50, 2, 36, 53, 79, 54, 19, 88, 1, 32, 31, 15, 6, 3, 1, 40, 22, 43, 18, 1, 77, 9, 59, 40, 7, 41, 81]\n",
            "\n",
            "Pilih algoritma pengurutan:\n",
            "1. Bubble Sort\n",
            "2. Insertion Sort\n",
            "Masukkan pilihan Anda (1 atau 2): 1\n",
            "\n",
            "Sesudah pengurutan <function bubble_sort at 0x7f85a1a4e7a0>: [1, 1, 1, 2, 3, 3, 3, 5, 6, 7, 7, 8, 9, 9, 10, 12, 15, 15, 17, 18, 19, 19, 20, 21, 21, 21, 22, 23, 24, 25, 26, 31, 31, 32, 32, 33, 33, 36, 36, 39, 39, 40, 40, 40, 41, 43, 43, 44, 46, 48, 49, 50, 53, 54, 55, 59, 60, 62, 63, 64, 68, 71, 74, 77, 79, 81, 84, 85, 88, 89, 90, 90, 95, 97, 99]\n",
            "\n",
            "5 iterasi pertama Bubble Sort:\n",
            "12 99 62 15 20 \n",
            "\n",
            "5 iterasi terakhir Bubble Sort:\n",
            "59 40 7 41 81 \n",
            "\n",
            "Waktu komputasi: 0.000689 detik\n",
            "\n"
          ]
        }
      ],
      "source": [
        "import time\n",
        "\n",
        "def bubble_sort(arr):\n",
        "    n = len(arr)\n",
        "    start_time = time.time()\n",
        "\n",
        "    for i in range(n):\n",
        "        swapped = False\n",
        "        for j in range(n-i-1):\n",
        "            if arr[j] > arr[j+1]:\n",
        "                arr[j], arr[j+1] = arr[j+1], arr[j]\n",
        "                swapped = True\n",
        "\n",
        "        if not swapped:\n",
        "            break\n",
        "\n",
        "    end_time = time.time()\n",
        "    return arr, end_time - start_time\n",
        "\n",
        "\n",
        "def insertion_sort(arr):\n",
        "    n = len(arr)\n",
        "    start_time = time.time()\n",
        "\n",
        "    for i in range(1, n):\n",
        "        key = arr[i]\n",
        "        j = i - 1\n",
        "        while j >= 0 and arr[j] > key:\n",
        "            arr[j+1] = arr[j]\n",
        "            j -= 1\n",
        "        arr[j+1] = key\n",
        "\n",
        "    end_time = time.time()\n",
        "    return arr, end_time - start_time\n",
        "\n",
        "\n",
        "def print_iterations(arr, sort_type):\n",
        "    print(f\"5 iterasi pertama {sort_type}:\")\n",
        "    for i in range(min(5, len(arr))):\n",
        "        print(arr[i], end=\" \")\n",
        "    print(\"\\n\")\n",
        "\n",
        "    print(f\"5 iterasi terakhir {sort_type}:\")\n",
        "    for i in range(max(0, len(arr)-5), len(arr)):\n",
        "        print(arr[i], end=\" \")\n",
        "    print(\"\\n\")\n",
        "\n",
        "\n",
        "def print_computation_time(time):\n",
        "    print(f\"Waktu komputasi: {time:.6f} detik\\n\")\n",
        "\n",
        "\n",
        "def print_before_after(arr, sort_type):\n",
        "    sorted_arr, _ = sort_type(arr.copy())\n",
        "    print(f\"Sesudah pengurutan {sort_type}: {sorted_arr}\\n\")\n",
        "\n",
        "if __name__ == '__main__':\n",
        "    arr = [12, 99, 62, 15, 20, 95, 39, 48, 3, 24, 8, 43, 74, 19, 97, 33, 49, 68, 55, 33, 90, 90, 7,\n",
        "           26, 85, 46, 39, 40, 9, 36, 60, 64, 89, 31, 25, 71, 21, 23, 63, 84, 32, 5, 3, 44, 21, 10, 21,\n",
        "           17, 50, 2, 36, 53, 79, 54, 19, 88, 1, 32, 31, 15, 6, 3, 1, 40, 22, 43, 18, 1, 77, 9, 59,\n",
        "           40, 7, 41, 81]\n",
        "\n",
        "    print(\"Sebelum pengurutan:\")\n",
        "    print(arr)\n",
        "    print()\n",
        "\n",
        "    while True:\n",
        "        print(\"Pilih algoritma pengurutan:\")\n",
        "        print(\"1. Bubble Sort\")\n",
        "        print(\"2. Insertion Sort\")\n",
        "        choice = input(\"Masukkan pilihan Anda (1 atau 2): \")\n",
        "        print()\n",
        "\n",
        "        if choice == '1':\n",
        "            print_before_after(arr, bubble_sort)\n",
        "            print_iterations(arr, \"Bubble Sort\")\n",
        "            sorted_arr, computation_time = bubble_sort(arr.copy())\n",
        "            print_computation_time(computation_time)\n",
        "            break\n",
        "        elif choice == '2':\n",
        "            print_before_after(arr, insertion_sort)\n",
        "            print_iterations(arr, \"Insertion Sort\")\n",
        "            sorted_arr, computation_time = insertion_sort(arr.copy())\n",
        "            print_computation_time(computation_time)\n",
        "            break\n",
        "        else:\n",
        "            print(\"Pilihan tidak valid. Silakan masukkan 1 atau 2.\\n\")\n"
      ]
    },
    {
      "cell_type": "markdown",
      "source": [
        "Algoritma TSP"
      ],
      "metadata": {
        "id": "g-vH9wfGliPg"
      }
    },
    {
      "cell_type": "code",
      "source": [
        "#tes commit"
      ],
      "metadata": {
        "id": "FB_-XnwcxqN-"
      },
      "execution_count": null,
      "outputs": []
    }
  ]
}